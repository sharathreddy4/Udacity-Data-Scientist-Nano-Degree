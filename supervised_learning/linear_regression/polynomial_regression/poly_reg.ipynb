{
 "cells": [
  {
   "cell_type": "code",
   "execution_count": 1,
   "metadata": {},
   "outputs": [],
   "source": [
    "#adding import statements\n",
    "import numpy as np\n",
    "import pandas as pd\n",
    "from sklearn.linear_model import LinearRegression\n",
    "from sklearn.preprocessing import PolynomialFeatures\n"
   ]
  },
  {
   "cell_type": "code",
   "execution_count": 9,
   "metadata": {
    "scrolled": true
   },
   "outputs": [
    {
     "name": "stdout",
     "output_type": "stream",
     "text": [
      "<class 'pandas.core.frame.DataFrame'>\n",
      "[[-0.33532]\n",
      " [ 0.0216 ]\n",
      " [-1.19438]\n",
      " [-0.65046]\n",
      " [-0.28001]\n",
      " [ 1.93258]\n",
      " [ 1.2262 ]\n",
      " [ 0.74727]\n",
      " [ 3.32853]\n",
      " [ 2.87457]\n",
      " [-1.48662]\n",
      " [ 0.37629]\n",
      " [ 1.43918]\n",
      " [ 0.24183]\n",
      " [-2.7914 ]\n",
      " [ 1.08176]\n",
      " [ 2.81555]\n",
      " [ 0.54924]\n",
      " [ 2.36449]\n",
      " [-1.01925]]\n",
      "[  6.66854   3.86398   5.16161   8.43823   5.57201 -11.1327   -5.31226\n",
      "  -4.63725   3.8065   -6.06084   7.22328   2.38887  -7.13415   2.00412\n",
      "   4.29794  -5.86553  -5.20711  -3.52863 -10.16202   5.31123]\n"
     ]
    }
   ],
   "source": [
    "#Load the data and Assigning the data to predictor and outcome variables\n",
    "train_data =pd.read_csv('data.csv')\n",
    "print(type(train_data))\n",
    "X = train_data['Var_X'].values.reshape(-1,1)\n",
    "print(X)\n",
    "y= train_data['Var_Y'].values\n",
    "print(y)"
   ]
  },
  {
   "cell_type": "code",
   "execution_count": 10,
   "metadata": {},
   "outputs": [],
   "source": [
    "#Create polynomial features object, \n",
    "#then fit and transform the predictor feature with this object\n",
    "poly_feat = PolynomialFeatures(degree= 4)\n",
    "X_poly =  poly_feat.fit_transform(X)\n"
   ]
  },
  {
   "cell_type": "code",
   "execution_count": 11,
   "metadata": {},
   "outputs": [],
   "source": [
    "#create a polynomial regression model by\n",
    "#fitting the polynomial predictor features to a  Linear Regression model\n",
    "model =  LinearRegression(fit_intercept = False).fit(X_poly,y)"
   ]
  },
  {
   "cell_type": "code",
   "execution_count": null,
   "metadata": {},
   "outputs": [],
   "source": []
  }
 ],
 "metadata": {
  "kernelspec": {
   "display_name": "Python [conda env:Anaconda3]",
   "language": "python",
   "name": "conda-env-Anaconda3-py"
  },
  "language_info": {
   "codemirror_mode": {
    "name": "ipython",
    "version": 3
   },
   "file_extension": ".py",
   "mimetype": "text/x-python",
   "name": "python",
   "nbconvert_exporter": "python",
   "pygments_lexer": "ipython3",
   "version": "3.6.6"
  }
 },
 "nbformat": 4,
 "nbformat_minor": 2
}
