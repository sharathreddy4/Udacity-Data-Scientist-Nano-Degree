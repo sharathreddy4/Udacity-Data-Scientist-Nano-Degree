{
 "cells": [
  {
   "cell_type": "code",
   "execution_count": 1,
   "metadata": {},
   "outputs": [],
   "source": [
    "import numpy as np\n",
    "import pandas as pd\n",
    "from sklearn.linear_model import Lasso\n"
   ]
  },
  {
   "cell_type": "code",
   "execution_count": 6,
   "metadata": {},
   "outputs": [],
   "source": [
    "#loading the data\n",
    "train_data = pd.read_csv('data.csv', header = None)#since we don't have a header line\n",
    "X = train_data.iloc[:,:-1]\n",
    "y = train_data.iloc[:,-1] "
   ]
  },
  {
   "cell_type": "code",
   "execution_count": 9,
   "metadata": {},
   "outputs": [
    {
     "name": "stdout",
     "output_type": "stream",
     "text": [
      "0     12.31798\n",
      "1     23.67628\n",
      "2     -1.53459\n",
      "3    -24.68670\n",
      "4     17.54122\n",
      "5      9.39789\n",
      "6     11.73565\n",
      "7      4.42482\n",
      "8     -5.94615\n",
      "9    -13.11848\n",
      "10    -9.25647\n",
      "11   -29.94048\n",
      "12   -20.46775\n",
      "13     7.12822\n",
      "14     6.05628\n",
      "15   -32.91328\n",
      "16    17.75036\n",
      "17    -2.80277\n",
      "18    33.98791\n",
      "19    -3.18407\n",
      "20   -20.57366\n",
      "21   -12.66661\n",
      "22    -6.56370\n",
      "23    23.19621\n",
      "24    13.89143\n",
      "25    10.29282\n",
      "26    21.21512\n",
      "27    14.54248\n",
      "28   -24.77918\n",
      "29   -45.01710\n",
      "        ...   \n",
      "70    10.85762\n",
      "71    16.49896\n",
      "72    -8.16292\n",
      "73    -6.76994\n",
      "74    -0.87206\n",
      "75    11.48350\n",
      "76   -23.71307\n",
      "77    11.82506\n",
      "78    13.23011\n",
      "79    -0.67043\n",
      "80    -3.12393\n",
      "81   -16.76419\n",
      "82    -7.00464\n",
      "83    23.96407\n",
      "84   -13.66325\n",
      "85    -0.26176\n",
      "86    14.30309\n",
      "87    -2.45750\n",
      "88     9.94820\n",
      "89    -0.19544\n",
      "90    12.68742\n",
      "91   -15.58698\n",
      "92   -40.20406\n",
      "93     9.08819\n",
      "94     6.24185\n",
      "95    26.14768\n",
      "96     0.76214\n",
      "97   -10.05262\n",
      "98   -19.63970\n",
      "99    12.76193\n",
      "Name: 6, Length: 100, dtype: float64\n"
     ]
    }
   ],
   "source": [
    "print(y)"
   ]
  },
  {
   "cell_type": "code",
   "execution_count": 3,
   "metadata": {},
   "outputs": [],
   "source": [
    "#creating a n object of the lasso model\n",
    "lasso_reg = Lasso()"
   ]
  },
  {
   "cell_type": "code",
   "execution_count": 4,
   "metadata": {},
   "outputs": [
    {
     "data": {
      "text/plain": [
       "Lasso(alpha=1.0, copy_X=True, fit_intercept=True, max_iter=1000,\n",
       "   normalize=False, positive=False, precompute=False, random_state=None,\n",
       "   selection='cyclic', tol=0.0001, warm_start=False)"
      ]
     },
     "execution_count": 4,
     "metadata": {},
     "output_type": "execute_result"
    }
   ],
   "source": [
    "#fitting the model to the data\n",
    "lasso_reg.fit(X,y)"
   ]
  },
  {
   "cell_type": "code",
   "execution_count": 5,
   "metadata": {},
   "outputs": [
    {
     "name": "stdout",
     "output_type": "stream",
     "text": [
      "[ 0.          2.35793224  2.00441646 -0.05511954 -3.92808318  0.        ]\n"
     ]
    }
   ],
   "source": [
    "#retrieving the coefficients from the regression model created for the data\n",
    "reg_coef = lasso_reg.coef_\n",
    "print(reg_coef)"
   ]
  },
  {
   "cell_type": "code",
   "execution_count": null,
   "metadata": {},
   "outputs": [],
   "source": []
  }
 ],
 "metadata": {
  "kernelspec": {
   "display_name": "Python [conda env:Anaconda3]",
   "language": "python",
   "name": "conda-env-Anaconda3-py"
  },
  "language_info": {
   "codemirror_mode": {
    "name": "ipython",
    "version": 3
   },
   "file_extension": ".py",
   "mimetype": "text/x-python",
   "name": "python",
   "nbconvert_exporter": "python",
   "pygments_lexer": "ipython3",
   "version": "3.6.6"
  }
 },
 "nbformat": 4,
 "nbformat_minor": 2
}
